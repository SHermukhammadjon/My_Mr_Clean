{
 "cells": [
  {
   "cell_type": "code",
   "execution_count": 1,
   "id": "b937c8d6-faaf-4df2-a86d-06a5a5123a5a",
   "metadata": {},
   "outputs": [],
   "source": [
    "import requests\n",
    "import mylib as lib\n",
    "import re"
   ]
  },
  {
   "cell_type": "code",
   "execution_count": 2,
   "id": "131ed81e-61d7-4871-908c-ffded6bda3bd",
   "metadata": {},
   "outputs": [],
   "source": [
    "def get_content(title):\n",
    "    url = f\"https://en.wikipedia.org/w/api.php?action=query&prop=extracts&titles={title}&explaintext&format=json\"  \n",
    "    \n",
    "    respons = requests.get(url)\n",
    "    data = respons.json()\n",
    "#     data = respons.text\n",
    "    \n",
    "    return data    #[\"query\"][\"pages\"]['22834']['extract']  #[\"revisions\"][0]['slots']['main']['content']"
   ]
  },
  {
   "cell_type": "code",
   "execution_count": 3,
   "id": "277aeec7-ddc0-4caa-9862-3b18c7c5a61c",
   "metadata": {},
   "outputs": [],
   "source": []
  },
  {
   "cell_type": "code",
   "execution_count": 4,
   "id": "e88e5b93-d814-4aae-a80f-c6126f042b60",
   "metadata": {
    "scrolled": false
   },
   "outputs": [
    {
     "data": {
      "text/plain": [
       "{'batchcomplete': '',\n",
       " 'query': {'normalized': [{'from': 'Ozone_layer', 'to': 'Ozone layer'}],\n",
       "  'pages': {'22834': {'pageid': 22834,\n",
       "    'ns': 0,\n",
       "    'title': 'Ozone layer',\n",
       "    'extract': 'The ozone layer or ozone shield is a region of Earth\\'s stratosphere that absorbs most of the Sun\\'s ultraviolet  radiation. It contains a high concentration of ozone (O3) in relation to other parts of the atmosphere, although still small in relation to other gases in the stratosphere. The ozone layer contains less than 10 parts per million of ozone, while the average ozone concentration in Earth\\'s atmosphere as a whole is about 0.3 parts per million. The ozone layer is mainly found in the lower portion of the stratosphere, from approximately 15 to 35 kilometers (9 to 22 mi) above Earth, although its thickness varies seasonally and geographically.The ozone layer was discovered in 1913 by the French physicists Charles Fabry and Henri Buisson. Measurements of the sun showed that the radiation sent out from its surface and reaching the ground on Earth is usually consistent with the spectrum of a black body with a temperature in the range of 5,500–6,000 K (5,230–5,730 °C), except that there was no radiation below a wavelength of about 310 nm at the ultraviolet end of the spectrum. It was deduced that the missing radiation was being absorbed by something in the atmosphere. Eventually the spectrum of the missing radiation was matched to only one known chemical, ozone. Its properties were explored in detail by the British meteorologist G. M. B. Dobson, who developed a simple spectrophotometer (the Dobsonmeter) that could be used to measure stratospheric ozone from the ground. Between 1928 and 1958, Dobson established a worldwide network of ozone monitoring stations, which continue to operate to this day. The \"Dobson unit\", a convenient measure of the amount of ozone overhead, is named in his honor.\\nThe ozone layer absorbs 97 to 99 percent of the Sun\\'s medium-frequency ultraviolet light (from about 200 nm to 315 nm wavelength), which otherwise would potentially damage exposed life forms near the surface.In 1976, atmospheric research revealed that the ozone layer was being depleted by chemicals released by industry, mainly chlorofluorocarbons (CFCs). Concerns that increased UV radiation due to ozone depletion threatened life on Earth, including increased skin cancer in humans and other ecological problems, led to bans on the chemicals, and the latest evidence is that ozone depletion has slowed or stopped. The United Nations General Assembly has designated September 16 as the International Day for the Preservation of the Ozone Layer.\\nVenus also has a thin ozone layer at an altitude of 100 kilometers above the planet\\'s surface.\\n\\n\\n== Sources ==\\nThe photochemical mechanisms that give rise to the ozone layer were discovered by the British physicist Sydney Chapman in 1930. Ozone in the Earth\\'s stratosphere is created by ultraviolet light striking ordinary oxygen molecules containing two oxygen atoms (O2), splitting them into individual oxygen atoms (atomic oxygen); the atomic oxygen then combines with unbroken O2 to create ozone, O3. The ozone molecule is unstable (although, in the stratosphere, long-lived) and when ultraviolet light hits ozone it splits into a molecule of O2 and an individual atom of oxygen, a continuing process called the ozone-oxygen cycle. Chemically, this can be described as:\\n\\n  \\n    \\n      \\n        \\n          \\n            O\\n            \\n              2\\n            \\n            \\n              \\n            \\n          \\n          \\n\\n          \\n          +\\n          \\n            \\n              h\\n            \\n          \\n          ν\\n          \\n            ⟶\\n            \\n            \\n            \\n            uv\\n            \\n          \\n          2\\n          \\n          O\\n        \\n      \\n    \\n    {\\\\displaystyle {\\\\ce {O2{}+{\\\\mathit {h}}\\\\nu _{uv}->2O}}}\\n  \\n\\n  \\n    \\n      \\n        \\n          O\\n          +\\n          \\n            O\\n            \\n              2\\n            \\n            \\n              \\n            \\n          \\n          ⟷\\n          \\n            O\\n            \\n              3\\n            \\n            \\n              \\n            \\n          \\n        \\n      \\n    \\n    {\\\\displaystyle {\\\\ce {O + O2 <-> O3}}}\\n  About 90 percent of the ozone in the atmosphere is contained in the stratosphere. Ozone concentrations are greatest between about 20 and 40 kilometres (66,000 and 131,000 ft), where they range from about 2 to 8 parts per million. If all of the ozone were compressed to the pressure of the air at sea level, it would be only 3 millimetres (1⁄8 inch) thick.\\n\\n\\n== Ultraviolet light ==\\n\\nAlthough the concentration of the ozone in the ozone layer is very small, it is vitally important to life because it absorbs biologically harmful ultraviolet (UV) radiation coming from the Sun. Extremely short or vacuum UV (10–100 nm) is screened out by nitrogen. UV radiation capable of penetrating nitrogen is divided into three categories, based on its wavelength; these are referred to as UV-A (400–315 nm), UV-B (315–280 nm), and UV-C (280–100 nm).\\nUV-C, which is very harmful to all living things, is entirely screened out by a combination of dioxygen (< 200 nm) and ozone (> about 200 nm) by around 35 kilometres (115,000 ft) altitude. UV-B radiation can be harmful to the skin and is the main cause of sunburn; excessive exposure can also cause cataracts, immune system suppression, and genetic damage, resulting in problems such as skin cancer. The ozone layer (which absorbs from about 200 nm to 310 nm with a maximal absorption at about 250 nm) is very effective at screening out UV-B; for radiation with a wavelength of 290 nm, the intensity at the top of the atmosphere is 350 million times stronger than at the Earth\\'s surface. Nevertheless, some UV-B, particularly at its longest wavelengths, reaches the surface, and is important for the skin\\'s production of vitamin D in mammals.\\nOzone is transparent to most UV-A, so most of this longer-wavelength UV radiation reaches the surface, and it constitutes most of the UV reaching the Earth. This type of UV radiation is significantly less harmful to DNA, although it may still potentially cause physical damage, premature aging of the skin, indirect genetic damage, and skin cancer.\\n\\n\\n== Distribution in the stratosphere ==\\nThe thickness of the ozone layer varies worldwide and is generally thinner near the equator and thicker near the poles. Thickness refers to how much ozone is in a column over a given area and varies from season to season. The reasons for these variations are due to atmospheric circulation patterns and solar intensity.The majority of ozone is produced over the tropics and is transported towards the poles by stratospheric wind patterns. In the northern hemisphere these patterns, known as the Brewer–Dobson circulation, make the ozone layer thickest in the spring and thinnest in the fall. When ozone is produced by solar UV radiation in the tropics, it is done so by circulation lifting ozone-poor air out of the troposphere and into the stratosphere where the sun photolyzes oxygen molecules and turns them into ozone. Then, the ozone-rich air is carried to higher latitudes and drops into lower layers of the atmosphere.Research has found that the ozone levels in the United States are highest in the spring months of April and May and lowest in October. While the total amount of ozone increases moving from the tropics to higher latitudes, the concentrations are greater in high northern latitudes than in high southern latitudes, with spring ozone columns in high northern latitudes occasionally exceeding 600 DU and averaging 450 DU whereas 400 DU constituted a usual maximum in the Antarctic  before anthropogenic ozone depletion. This difference occurred naturally because of the weaker polar vortex and stronger Brewer–Dobson circulation in the northern hemisphere owing to that hemisphere’s large mountain ranges and greater contrasts between land and ocean temperatures. The difference between high northern and southern latitudes has increased since the 1970s due to the ozone hole phenomenon. The highest amounts of ozone are found over the Arctic during the spring months of March and April, but the Antarctic has the lowest amounts of ozone during the summer months of September and October,\\n\\n\\n== Depletion ==\\n\\nThe ozone layer can be depleted by free radical catalysts, including nitric oxide (NO), nitrous oxide (N2O), hydroxyl (OH), atomic chlorine (Cl), and atomic bromine (Br). While there are natural sources for all of these species, the concentrations of chlorine and bromine increased markedly in recent decades because of the release of large quantities of man-made organohalogen compounds, especially chlorofluorocarbons (CFCs) and bromofluorocarbons. These highly stable compounds are capable of surviving the rise to the stratosphere, where Cl and Br radicals are liberated by the action of ultraviolet light. Each radical is then free to initiate and catalyze a chain reaction capable of breaking down over 100,000 ozone molecules. By 2009, nitrous oxide was the largest ozone-depleting substance (ODS) emitted through human activities.The breakdown of ozone in the stratosphere results in reduced absorption of ultraviolet radiation. Consequently, unabsorbed and dangerous ultraviolet radiation is able to reach the Earth\\'s surface at a higher intensity. Ozone levels have dropped by a worldwide average of about 4 percent since the late 1970s. For approximately 5 percent of the Earth\\'s surface, around the north and south poles, much larger seasonal declines have been seen, and are described as \"ozone holes\". Let it be known that the \"ozone holes\" are actually patches in the ozone layer in which the ozone is thinner. The thinnest parts of the ozone are at the polar points of Earth\\'s axis. The discovery of the annual depletion of ozone above the Antarctic was first announced by Joe Farman, Brian Gardiner and Jonathan Shanklin, in a paper which appeared in Nature on May 16, 1985.\\nRegulation attempts have included but not have been limited to the Clean Air Act implemented by the United States Environmental Protection Agency. The Clean Air Act introduced the requirement of National Ambient Air Quality Standards (NAAQS) with ozone pollutions being one of six criteria pollutants. This regulation has proven to be effective since counties, cities and tribal regions must abide by these standards and the EPA also provides assistance for each region to regulate contaminants. Effective presentation of information has also proven to be important in order to educate the general population of the existence and regulation of ozone depletion and contaminants. A scientific paper was written by Sheldon Ungar in which the author explores and studies how information about the depletion of the ozone, climate change and various related topics. The ozone case was communicated to lay persons \"with easy-to-understand bridging metaphors derived from the popular culture\" and related to \"immediate risks with everyday relevance\". The specific metaphors used in the discussion (ozone shield, ozone hole) proved quite useful and, compared to global climate change, the ozone case was much more seen as a \"hot issue\" and imminent risk. Lay people were cautious about a depletion of the ozone layer and the risks of skin cancer.\\n\\n\"Bad\" ozone can cause adverse health risks respiratory effects (difficulty breathing) and is proven to be an aggravator of respiratory illnesses such as asthma, COPD and emphysema. That is why many countries have set in place regulations to improve \"good\" ozone and prevent the increase of \"bad\" ozone in urban or residential areas. In terms of ozone protection (the preservation of \"good\" ozone) the European Union has strict guidelines on what products are allowed to be bought, distributed or used in specific areas. With effective regulation, the ozone is expected to heal over time.\\n\\nIn 1978, the United States, Canada and Norway enacted bans on CFC-containing aerosol sprays that damage the ozone layer. The European Community rejected an analogous proposal to do the same. In the U.S., chlorofluorocarbons continued to be used in other applications, such as refrigeration and industrial cleaning, until after the discovery of the Antarctic ozone hole in 1985. After negotiation of an international treaty (the Montreal Protocol), CFC production was capped at 1986 levels with commitments to long-term reductions. This allowed for a ten-year phase-in for developing countries (identified in Article 5 of the protocol). Since that time, the treaty was amended to ban CFC production after 1995 in the developed countries, and later in developing countries. Today, all of the world\\'s 197 countries have signed the treaty. Beginning January 1, 1996, only recycled and stockpiled CFCs were available for use in developed countries like the US. This production phaseout was possible because of efforts to ensure that there would be substitute chemicals and technologies for all ODS uses.On August 2, 2003, scientists announced that the global depletion of the ozone layer may be slowing down because of the international regulation of ozone-depleting substances. In a study organized by the American Geophysical Union, three satellites and three ground stations confirmed that the upper-atmosphere ozone-depletion rate slowed significantly during the previous decade. Some breakdown can be expected to continue because of ODSs used by nations which have not banned them, and because of gases which are already in the stratosphere. Some ODSs, including CFCs, have very long atmospheric lifetimes, ranging from 50 to over 100 years. It has been estimated that the ozone layer will recover to 1980 levels near the middle of the 21st century. A gradual trend toward \"healing\" was reported in 2016.Compounds containing C–H bonds (such as hydrochlorofluorocarbons, or HCFCs) have been designed to replace CFCs in certain applications. These replacement compounds are more reactive and less likely to survive long enough in the atmosphere to reach the stratosphere where they could affect the ozone layer. While being less damaging than CFCs, HCFCs can have a negative impact on the ozone layer, so they are also being phased out. These in turn are being replaced by hydrofluorocarbons (HFCs) and other compounds that do not destroy stratospheric ozone at all.\\nThe residual effects of CFCs accumulating within the atmosphere lead to a concentration gradient between the atmosphere and the ocean. This organohalogen compound is able to dissolve into the ocean\\'s surface waters and is able to act as a time-dependent tracer. This tracer helps scientists study ocean circulation by tracing biological, physical and chemical pathways \\n\\n\\n== Implications for astronomy ==\\nAs ozone in the atmosphere prevents most energetic ultraviolet radiation reaching the surface of the Earth, astronomical data in these wavelengths have to be gathered from satellites orbiting above the atmosphere and ozone layer. Most of the light from young hot stars is in the ultraviolet and so study of these wavelengths is important for studying the origins of galaxies. The Galaxy Evolution Explorer, GALEX, is an orbiting ultraviolet space telescope launched on April 28, 2003, which operated until early 2012.\\n\\n\\n== See also ==\\nNuclear winter\\nUnited Nations Environment Programme\\nShort-lived climate pollutants\\n\\n\\n== References ==\\n\\n\\n== Further reading ==\\nScienceAndersen, S. O. (2015). \"Lessons from the stratospheric ozone layer protection for climate\". Journal of Environmental Studies and Sciences. 5 (2): 143–162. doi:10.1007/s13412-014-0213-9. S2CID 129725437.\\nAndersen, S.O.; Sarma, K.M.; Sinclair, L. (2012). Protecting the Ozone Layer: The United Nations History. Taylor & Francis. ISBN 978-1-84977-226-6.\\nUnited Nations Environment Programme (2010). Environmental Effects of Ozone Depletion and its Interactions with Climate Change: 2010 Assessment. Nairobi: UNEP.\\nVelders, G. J. M.; Fahey, D. W.; Daniel, J. S.; McFarland, M.; Andersen, S. O. (2009). \"The large contribution of projected HFC emissions to future climate forcing\". Proceedings of the National Academy of Sciences. 106 (27): 10949–10954. Bibcode:2009PNAS..10610949V. doi:10.1073/pnas.0902817106. PMC 2700150. PMID 19549868. S2CID 3743609.\\nVelders, Guus J.M.; Andersen, Stephen O.; Daniel, John S.; Fahey, David W.; McFarland, Mack (2007). \"The Importance of the Montreal Protocol in Protecting Climate\". Proceedings of the National Academy of Sciences of the United States of America. 104 (12): 4814–4819. Bibcode:2007PNAS..104.4814V. doi:10.1073/pnas.0610328104. PMC 1817831. PMID 17360370.PolicyZaelke, Durwood; Borgford-Parnell, Nathan (2015). \"The importance of phasing down hydrofluorocarbons and other short-lived climate pollutants\". Journal of Environmental Studies and Sciences. 5 (2): 169–175. doi:10.1007/s13412-014-0215-7. S2CID 128974741.\\nXu, Y.; Zaelke, D.; Velders, G. J. M.; Ramanathan, V. (2013). \"The role of HFCS in mitigating 21st century climate change\". Atmospheric Chemistry and Physics. 13 (12): 6083–6089. Bibcode:2013ACP....13.6083X. doi:10.5194/acp-13-6083-2013.\\nMolina, M.; Zaelke, D.; Sarma, K. M.; Andersen, S. O.; Ramanathan, V.; Kaniaru, D. (2009). \"Reducing abrupt climate change risk using the Montreal Protocol and other regulatory actions to complement cuts in CO2 emissions\". Proceedings of the National Academy of Sciences. 106 (49): 20616–20621. doi:10.1073/pnas.0902568106. PMC 2791591. PMID 19822751. S2CID 13240115.\\nAnderson, S. O.; Sarma, M. K.; Taddonio, K. (2007). Technology Transfer for the Ozone Layer: Lessons for Climate Change. London: Earthscan. ISBN 9781849772846.\\nBenedick, Richard Elliot; World Wildlife Fund (U.S.); Institute for the Study of Diplomacy. Georgetown University. (1998). Ozone Diplomacy: New Directions in Safeguarding the Planet (2nd ed.). Harvard University Press. ISBN 978-0-674-65003-9. (Ambassador Benedick was the Chief U.S. Negotiator at the meetings that resulted in the Montreal Protocol.)\\nChasek, P. S.; Downie, David L.; Brown, J. W. (2013). Global Environmental Politics (6th ed.). Boulder: Westview Press. ISBN 9780813348971.\\nGrundmann, Reiner (2001). Transnational Environmental Policy: Reconstructing Ozone. Psychology Press. ISBN 978-0-415-22423-9.\\nParson, E. (2003). Protecting the Ozone Layer: Science and Strategy. Oxford: Oxford University Press. ISBN 9780190288716.\\n\\n\\n== External links ==\\n\\nStratospheric ozone: an electronic textbook\\nOzone Layer Info\\nThe CAMS stratospheric ozone service delivers maps, datasets and validation reports about the past and current state of the ozone layer.\\nOzone layer at Curlie'}}}}"
      ]
     },
     "execution_count": 4,
     "metadata": {},
     "output_type": "execute_result"
    }
   ],
   "source": [
    "merge_content"
   ]
  },
  {
   "cell_type": "code",
   "execution_count": 7,
   "id": "cdc1cafd",
   "metadata": {},
   "outputs": [],
   "source": [
    "def drop_ab(abdict, data):\n",
    "    for key, value in abdict.items():\n",
    "        # print(key)\n",
    "        # print(value)\n",
    "        matche = f\"{key}.*{value}\"\n",
    "        while True:\n",
    "            loc = re.search(matche, data)\n",
    "        \n",
    "            if loc:\n",
    "                a = list(loc.span())[0]\n",
    "                b = list(loc.span())[1]\n",
    "                data = data.replace(data[a:b], \"\")\n",
    "            else:\n",
    "                break     \n",
    "\n",
    "    return data"
   ]
  },
  {
   "cell_type": "code",
   "execution_count": 8,
   "id": "c82ed0b2",
   "metadata": {},
   "outputs": [],
   "source": [
    "import re\n",
    "\n",
    "def drop_symbol(data):\n",
    "    \n",
    "    while True:\n",
    "        loc = re.search(\" .\\n\", data)\n",
    "        if loc:\n",
    "            a = list(loc.span())[0]\n",
    "            b = list(loc.span())[1]\n",
    "            data = data.replace(data[a:b], \"\")\n",
    "        else:\n",
    "            break\n",
    "    return data"
   ]
  },
  {
   "cell_type": "code",
   "execution_count": 9,
   "id": "743f27df",
   "metadata": {},
   "outputs": [],
   "source": [
    "def drops(elements, put, data):\n",
    "    for rep in elements:\n",
    "        data = data.replace(rep, put)\n",
    "    return data"
   ]
  },
  {
   "cell_type": "code",
   "execution_count": 40,
   "id": "0c84bc03",
   "metadata": {},
   "outputs": [],
   "source": [
    "def merge_contents(json_data):\n",
    "    key = list(json_data['query']['pages'].keys())[0]\n",
    "    data = str(json_data['query']['pages'][key]['extract'])\n",
    "    \n",
    "    data = drop_ab({'{':'}', '\\(' : '\\)'}, data)  \n",
    "    \n",
    "    porridge = data.split(\"\\n\\n\\n\")\n",
    "    porridge = porridge[0:-4]\n",
    "    \n",
    "    respons = \"\"\n",
    "    \n",
    "    for n in porridge:\n",
    "#         print(\"______________\")\n",
    "        n = drop_symbol(n)\n",
    "        n = drops([\"=\", ',', '.', ':', '\"', '-', '1', '2', '3', '4', '5', '6', '7', '8', '9', '0'], \" \", n)\n",
    "        respons += n\n",
    "#         print(n)\n",
    "#         print(\"______________\")\n",
    "    respons = drops([\"\\n\", \"\\\\\"], \"\", respons)\n",
    "    return respons"
   ]
  },
  {
   "cell_type": "code",
   "execution_count": 42,
   "id": "1c0651f7",
   "metadata": {
    "scrolled": false
   },
   "outputs": [],
   "source": [
    "# merge_contents(merge_content)"
   ]
  },
  {
   "cell_type": "code",
   "execution_count": null,
   "id": "8e1dfe52",
   "metadata": {},
   "outputs": [],
   "source": []
  },
  {
   "cell_type": "code",
   "execution_count": null,
   "id": "41f68327",
   "metadata": {},
   "outputs": [],
   "source": []
  },
  {
   "cell_type": "code",
   "execution_count": 92,
   "id": "6e848bf5-767e-40fa-a524-d957945cb637",
   "metadata": {},
   "outputs": [],
   "source": [
    "# def drop_tegs(tegs, data):\n",
    "    \n",
    "#     index = 0\n",
    "#     while True:\n",
    "#         # print(\"start\")\n",
    "#         # print(tegs)\n",
    "#         if index != len(tegs):\n",
    "#             teg = tegs[index]\n",
    "#             match = f\"<{teg}.*</{teg}>\"\n",
    "#             loc = re.search(match, data)\n",
    "#             if loc:\n",
    "#                 # print(\"if\")\n",
    "#                 loc = list(loc.span())\n",
    "#                 data = data.replace(data[loc[0] : loc[1]], \"\")\n",
    "#             else:\n",
    "#                 index+=1\n",
    "#         else:\n",
    "#             break\n",
    "#     return data\n"
   ]
  },
  {
   "cell_type": "code",
   "execution_count": 93,
   "id": "ea928613-3c7a-4810-a8be-2d80494c2d3f",
   "metadata": {},
   "outputs": [],
   "source": [
    "# def drop_ab(abdict, data):\n",
    "#     for key, value in abdict.items():\n",
    "#         # print(key)\n",
    "#         # print(value)\n",
    "#         match = f\"{key}.*{value}\"\n",
    "#         indexs = re.search(match, data)\n",
    "\n",
    "#         try:\n",
    "#             indexs = list(indexs.span())\n",
    "#             data = data.replace(data[indexs[0] : indexs[1]], \"\")\n",
    "#         except:\n",
    "#             continue\n",
    "\n",
    "#     return data"
   ]
  },
  {
   "cell_type": "code",
   "execution_count": 94,
   "id": "6a6e834f-9d6a-4192-8120-02c47a49b456",
   "metadata": {},
   "outputs": [],
   "source": [
    "# def merge_contents(data):\n",
    "#     data = str(data[\"query\"][\"pages\"][0][\"revisions\"][0]['slots']['main']['content'])\n",
    "#     data = drop_tegs([\"ref\",\"chem\", \"sub\"], data)\n",
    "#     data = lib.drops([\"'s\", \"==\"], \"\", data)\n",
    "#     data = drop_ab({\"<\" : \">\", \"<\" : \"/>\", \"http\" : \" \"}, data)\n",
    "    \n",
    "    \n",
    "#     data = data.split(\"\\n\\n\")\n",
    "#     porridge = data[1:-10] \n",
    "    \n",
    "#     for n in porridge:\n",
    "#         print(\"_______\")\n",
    "#         print(n)\n",
    "#         print(\"_______\")\n"
   ]
  },
  {
   "cell_type": "code",
   "execution_count": null,
   "id": "193dd93c-d8e1-4107-9088-f3b769289cc6",
   "metadata": {},
   "outputs": [],
   "source": []
  },
  {
   "cell_type": "code",
   "execution_count": null,
   "id": "650b7307-c895-418e-9193-72b6a0ba6309",
   "metadata": {},
   "outputs": [],
   "source": []
  },
  {
   "cell_type": "code",
   "execution_count": null,
   "id": "00b0d258-5cfe-4f5e-9e86-85e0f0d3208f",
   "metadata": {},
   "outputs": [],
   "source": []
  },
  {
   "cell_type": "code",
   "execution_count": null,
   "id": "5bdba479-46a4-4aed-b740-dc5b28348600",
   "metadata": {},
   "outputs": [],
   "source": []
  },
  {
   "cell_type": "code",
   "execution_count": null,
   "id": "1d8c03be-c433-43ee-87b9-2fbe588a1c2c",
   "metadata": {},
   "outputs": [],
   "source": []
  },
  {
   "cell_type": "code",
   "execution_count": null,
   "id": "4e818310-a6d6-427b-b44f-5bf111bc8d91",
   "metadata": {},
   "outputs": [],
   "source": []
  },
  {
   "cell_type": "code",
   "execution_count": null,
   "id": "d5ac3c30-0bca-486b-9a4c-6a76968e33f2",
   "metadata": {},
   "outputs": [],
   "source": []
  },
  {
   "cell_type": "code",
   "execution_count": 87,
   "id": "9fadcee1-1560-41ad-9100-a881a65234f4",
   "metadata": {
    "scrolled": false
   },
   "outputs": [
    {
     "name": "stdout",
     "output_type": "stream",
     "text": [
      "\n",
      "\u001b[94m\n",
      " ██████╗ ██╗    ██╗ █████╗ ███████╗ █████╗ ██████╗    ██╗ ██████╗ \n",
      "██╔═══██╗██║    ██║██╔══██╗██╔════╝██╔══██╗██╔══██╗   ██║██╔═══██╗\n",
      "██║   ██║██║ █╗ ██║███████║███████╗███████║██████╔╝   ██║██║   ██║\n",
      "██║▄▄ ██║██║███╗██║██╔══██║╚════██║██╔══██║██╔══██╗   ██║██║   ██║\n",
      "╚██████╔╝╚███╔███╔╝██║  ██║███████║██║  ██║██║  ██║██╗██║╚██████╔╝\n",
      " ╚══▀▀═╝  ╚══╝╚══╝ ╚═╝  ╚═╝╚══════╝╚═╝  ╚═╝╚═╝  ╚═╝╚═╝╚═╝ ╚═════╝ \n",
      "\t\t\t\t\t\t\t\t\t\t\t\t\t\t\t\t\t\t\t\t\t\t\t\t\t\t\t\t\t\t\t\t \u001b[0m\n",
      "Booting Gandalf v4.1.12-deab022 (production)\n",
      "Loading parameters:  \u001b[32mOK\u001b[0m\n",
      "User temirov_s connection: \u001b[32mOK\u001b[0m\n",
      "\n",
      "\n",
      "<MY_MR_CLEAN>\n",
      "Directory . exists: \u001b[32mOK\u001b[0m\n",
      "Pushing exercise: \u001b[32mOK\u001b[0m\n",
      "Printing your report:\n",
      "\n",
      " \u001b[97;1;40m     REPORT      \u001b[0m  \u001b[97mMY MR CLEAN\u001b[0m \n",
      "\n",
      " Status             \u001b[92mSUCCESS\u001b[0m     \n",
      " Execution Runtime  2.191824    \n",
      " Score              [\u001b[32m=\u001b[0m\u001b[33m-\u001b[0m\u001b[33m-\u001b[0m\u001b[33m-\u001b[0m\u001b[33m-\u001b[0m] 1/5 \n",
      "\n",
      "\n",
      "Checks detail Report:\n",
      "\n",
      " \u001b[97;1;40mTEST COUNT FREQUENCY \u001b[0m  \u001b[91m                                                                                                                                                                                                                                                                                                                                                                                                                                                                                                                            FAILURE                                                                                                                                                                                                                                                                                                                                                                                                                                                                                                                            \u001b[0m \n",
      "\n",
      " Input                                                                                                                                                                                                                                                                                                                                                                                                                                                                                                                                                                                                                                                                                                                                                                                                                                                                                                                                                                                                                                                                                  \n",
      " Expected Output        \"\"                                                                                                                                                                                                                                                                                                                                                                                                                                                                                                                                                                                                                                                                                                                                                                                                                                                                                                                                                                                                                                                              \n",
      " Expected Return Value                                                                                                                                                                                                                                                                                                                                                                                                                                                                                                                                                                                                                                                                                                                                                                                                                                                                                                                                                                                                                                                                  \n",
      " Output                     def test_count_frequency(self):                                                                                                                                                                                                                                                                                                                                                                                                                                                                                                                                                                                                                                                                                                                                                                                                                                                                                                                                                                                                                             \n",
      "                                data = ['lorem', 'ipsum', 'dolor', 'sit', 'amet', 'consectetur', 'adipiscing', 'elit', 'aliquam', 'a', 'cursus', 'elit', 'sed', 'viverra', 'justo', 'integer', 'tempus', 'ante', 'at', 'odio', 'commodo', 'et', 'ornare', 'ipsum', 'dapibus', 'donec', 'bibendum', 'sit', 'amet', 'urna', 'sit', 'amet', 'facilisis', 'donec', 'accumsan', 'odio', 'ligula', 'proin', 'sodales', 'sapien', 'at', 'risus', 'viverra', 'at', 'vehicula', 'dolor', 'malesuada', 'aenean', 'scelerisque', 'tristique', 'ultricies', 'lorem', 'ipsum', 'dolor', 'sit', 'amet', 'consectetur', 'adipiscing', 'elit', 'etiam', 'euismod', 'scelerisque', 'lacinia', 'proin', 'sit', 'amet', 'nisi', 'orci', 'donec', 'aliquet', 'eros', 'ac', 'sem', 'fringilla', 'eu', 'rutrum', 'urna', 'malesuada', 'cras', 'ut', 'congue', 'massa', 'nam', 'fermentum', 'odio', 'ac', 'purus', 'varius', 'ac', 'tempus', 'elit', 'bibendum', 'donec', 'turpis', 'leo', 'imperdiet', 'eget', 'blandit', 'non', 'commodo', 'auctor', 'risus', 'praesent', 'interdum', 'bibendum', 'gravida'] \n",
      "                                                                                                                                                                                                                                                                                                                                                                                                                                                                                                                                                                                                                                                                                                                                                                                                                                                                                                                                                                                                                                                                                        \n",
      "                                gold_count_frequency = {'lorem': 2, 'ipsum': 3, 'dolor': 3, 'sit': 5, 'amet': 5, 'consectetur': 2, 'adipiscing': 2, 'elit': 4, 'aliquam': 1, 'a': 1, 'cursus': 1, 'sed': 1, 'viverra': 2, 'justo': 1, 'integer': 1, 'tempus': 2, 'ante': 1, 'at': 3, 'odio': 3, 'commodo': 2, 'et': 1, 'ornare': 1, 'dapibus': 1, 'donec': 4, 'bibendum': 3, 'urna': 2, 'facilisis': 1, 'accumsan': 1, 'ligula': 1, 'proin': 2, 'sodales': 1, 'sapien': 1, 'risus': 2, 'vehicula': 1, 'malesuada': 2, 'aenean': 1, 'scelerisque': 2, 'tristique': 1, 'ultricies': 1, 'etiam': 1, 'euismod': 1, 'lacinia': 1, 'nisi': 1, 'orci': 1, 'aliquet': 1, 'eros': 1, 'ac': 3, 'sem': 1, 'fringilla': 1, 'eu': 1, 'rutrum': 1, 'cras': 1, 'ut': 1, 'congue': 1, 'massa': 1, 'nam': 1, 'fermentum': 1, 'purus': 1, 'varius': 1, 'turpis': 1, 'leo': 1, 'imperdiet': 1, 'eget': 1, 'blandit': 1, 'non': 1, 'auctor': 1, 'praesent': 1, 'interdum': 1, 'gravida': 1}                                                                                                                 \n",
      "                                                                                                                                                                                                                                                                                                                                                                                                                                                                                                                                                                                                                                                                                                                                                                                                                                                                                                                                                                                                                                                                                        \n",
      "                                user_count_frequency = eg.count_frequency(data)                                                                                                                                                                                                                                                                                                                                                                                                                                                                                                                                                                                                                                                                                                                                                                                                                                                                                                                                                                                                         \n",
      "                                                                                                                                                                                                                                                                                                                                                                                                                                                                                                                                                                                                                                                                                                                                                                                                                                                                                                                                                                                                                                                                                        \n"
     ]
    },
    {
     "name": "stdout",
     "output_type": "stream",
     "text": [
      "                                self.assertTrue(isinstance(user_count_frequency, dict))                                                                                                                                                                                                                                                                                                                                                                                                                                                                                                                                                                                                                                                                                                                                                                                                                                                                                                                                                                                                 \r\n",
      "                                self.assertTrue(gold_count_frequency == user_count_frequency)                                                                                                                                                                                                                                                                                                                                                                                                                                                                                                                                                                                                                                                                                                                                                                                                                                                                                                                                                                                           \r\n",
      "                                                                                                                                                                                                                                                                                                                                                                                                                                                                                                                                                                                                                                                                                                                                                                                                                                                                                                                                                                                                                                                                                        \r\n",
      " Return Value                                                                                                                                                                                                                                                                                                                                                                                                                                                                                                                                                                                                                                                                                                                                                                                                                                                                                                                                                                                                                                                                           \r\n",
      "\r\n",
      "Your Stderr:\r\n",
      "module 'my_mr_clean' has no attribute 'count_frequency'\r\n",
      "\r\n",
      " \u001b[97;1;40mTEST GET CONTENT\u001b[0m  \u001b[92mSUCCESS\u001b[0m \r\n",
      "\r\n",
      "\r\n",
      "\r\n",
      " \u001b[97;1;40mTEST LOWER COLLECTION\u001b[0m  \u001b[91m                                                                                                                                                                                                                                                                                                                                                                                                                                                                                                                                    FAILURE                                                                                                                                                                                                                                                                                                                                                                                                                                                                                                                                     \u001b[0m \r\n",
      "\r\n",
      " Input                                                                                                                                                                                                                                                                                                                                                                                                                                                                                                                                                                                                                                                                                                                                                                                                                                                                                                                                                                                                                                                                                                   \r\n",
      " Expected Output        \"\"                                                                                                                                                                                                                                                                                                                                                                                                                                                                                                                                                                                                                                                                                                                                                                                                                                                                                                                                                                                                                                                                               \r\n",
      " Expected Return Value                                                                                                                                                                                                                                                                                                                                                                                                                                                                                                                                                                                                                                                                                                                                                                                                                                                                                                                                                                                                                                                                                   \r\n",
      " Output                     def test_lower_collection(self):                                                                                                                                                                                                                                                                                                                                                                                                                                                                                                                                                                                                                                                                                                                                                                                                                                                                                                                                                                                                                                             \r\n",
      "                                data = ['Lorem', 'ipsum', 'dolor', 'sit', 'amet', 'consectetur', 'adipiscing', 'elit', 'Aliquam', 'a', 'cursus', 'elit', 'sed', 'viverra', 'justo', 'Integer', 'tempus', 'ante', 'at', 'odio', 'commodo', 'et', 'ornare', 'ipsum', 'dapibus', 'Donec', 'bibendum', 'sit', 'amet', 'urna', 'sit', 'amet', 'facilisis', 'Donec', 'accumsan', 'odio', 'ligula', 'Proin', 'sodales', 'sapien', 'at', 'risus', 'viverra', 'at', 'vehicula', 'dolor', 'malesuada', 'Aenean', 'scelerisque', 'tristique', 'ultricies', 'Lorem', 'ipsum', 'dolor', 'sit', 'amet', 'consectetur', 'adipiscing', 'elit', 'Etiam', 'euismod', 'scelerisque', 'lacinia', 'Proin', 'sit', 'amet', 'nisi', 'orci', 'Donec', 'aliquet', 'eros', 'ac', 'sem', 'fringilla', 'eu', 'rutrum', 'urna', 'malesuada', 'Cras', 'ut', 'congue', 'massa', 'Nam', 'fermentum', 'odio', 'ac', 'purus', 'varius', 'ac', 'tempus', 'elit', 'bibendum', 'Donec', 'turpis', 'leo', 'imperdiet', 'eget', 'blandit', 'non', 'commodo', 'auctor', 'risus', 'Praesent', 'interdum', 'bibendum', 'gravida']                  \r\n",
      "                                                                                                                                                                                                                                                                                                                                                                                                                                                                                                                                                                                                                                                                                                                                                                                                                                                                                                                                                                                                                                                                                                         \r\n",
      "                                gold_lower_collection = ['lorem', 'ipsum', 'dolor', 'sit', 'amet', 'consectetur', 'adipiscing', 'elit', 'aliquam', 'a', 'cursus', 'elit', 'sed', 'viverra', 'justo', 'integer', 'tempus', 'ante', 'at', 'odio', 'commodo', 'et', 'ornare', 'ipsum', 'dapibus', 'donec', 'bibendum', 'sit', 'amet', 'urna', 'sit', 'amet', 'facilisis', 'donec', 'accumsan', 'odio', 'ligula', 'proin', 'sodales', 'sapien', 'at', 'risus', 'viverra', 'at', 'vehicula', 'dolor', 'malesuada', 'aenean', 'scelerisque', 'tristique', 'ultricies', 'lorem', 'ipsum', 'dolor', 'sit', 'amet', 'consectetur', 'adipiscing', 'elit', 'etiam', 'euismod', 'scelerisque', 'lacinia', 'proin', 'sit', 'amet', 'nisi', 'orci', 'donec', 'aliquet', 'eros', 'ac', 'sem', 'fringilla', 'eu', 'rutrum', 'urna', 'malesuada', 'cras', 'ut', 'congue', 'massa', 'nam', 'fermentum', 'odio', 'ac', 'purus', 'varius', 'ac', 'tempus', 'elit', 'bibendum', 'donec', 'turpis', 'leo', 'imperdiet', 'eget', 'blandit', 'non', 'commodo', 'auctor', 'risus', 'praesent', 'interdum', 'bibendum', 'gravida'] \r\n",
      "                                                                                                                                                                                                                                                                                                                                                                                                                                                                                                                                                                                                                                                                                                                                                                                                                                                                                                                                                                                                                                                                                                         \r\n",
      "                                user_lower_collection = eg.lower_collection(data)                                                                                                                                                                                                                                                                                                                                                                                                                                                                                                                                                                                                                                                                                                                                                                                                                                                                                                                                                                                                                        \r\n",
      "                                                                                                                                                                                                                                                                                                                                                                                                                                                                                                                                                                                                                                                                                                                                                                                                                                                                                                                                                                                                                                                                                                         \r\n",
      "                                self.assertTrue(gold_lower_collection == user_lower_collection)                                                                                                                                                                                                                                                                                                                                                                                                                                                                                                                                                                                                                                                                                                                                                                                                                                                                                                                                                                                                          \r\n",
      "                                                                                                                                                                                                                                                                                                                                                                                                                                                                                                                                                                                                                                                                                                                                                                                                                                                                                                                                                                                                                                                                                                         \r\n",
      " Return Value                                                                                                                                                                                                                                                                                                                                                                                                                                                                                                                                                                                                                                                                                                                                                                                                                                                                                                                                                                                                                                                                                            \r\n",
      "\r\n",
      "Your Stderr:\r\n",
      "module 'my_mr_clean' has no attribute 'lower_collection'\r\n",
      "\r\n",
      " \u001b[97;1;40m TEST MERGE CONTENTS \u001b[0m  \u001b[91m                                FAILURE                                 \u001b[0m \r\n",
      "\r\n",
      " Input                                                                                           \r\n",
      " Expected Output        \"\"                                                                       \r\n",
      " Expected Return Value                                                                           \r\n",
      " Output                     def test_merge_contents(self):                                       \r\n",
      "                                data = eg.get_content(\"Ozone_layer\")                             \r\n",
      "                                result = eg.merge_contents(data)                                 \r\n",
      "                                                                                                 \r\n",
      "                                self.assertTrue(isinstance(result, str))                         \r\n",
      "                                self.assertTrue(len(re.findall(r'{{cite[^}}]+}}', result)) == 0) \r\n",
      "                                self.assertTrue(len(re.findall(r'\\[http[^\\]]+]', result) ) == 0) \r\n",
      "                                self.assertTrue(len(re.findall(r'\\[{2}|\\]{2}', result)) == 0)    \r\n",
      "                                                                                                 \r\n",
      " Return Value                                                                                    \r\n",
      "\r\n",
      "Your Stderr:\r\n",
      "module 'my_mr_clean' has no attribute 'merge_contents'\r\n",
      "\r\n",
      " \u001b[97;1;40m    TEST TOKENIZE    \u001b[0m  \u001b[91m                                                                                                                                                                                                                                                                                                                                                                                                                                                                                                                                 FAILURE                                                                                                                                                                                                                                                                                                                                                                                                                                                                                                                                  \u001b[0m \r\n",
      "\r\n",
      " Input                                                                                                                                                                                                                                                                                                                                                                                                                                                                                                                                                                                                                                                                                                                                                                                                                                                                                                                                                                                                                                                                                             \r\n",
      " Expected Output        \"\"                                                                                                                                                                                                                                                                                                                                                                                                                                                                                                                                                                                                                                                                                                                                                                                                                                                                                                                                                                                                                                                                         \r\n",
      " Expected Return Value                                                                                                                                                                                                                                                                                                                                                                                                                                                                                                                                                                                                                                                                                                                                                                                                                                                                                                                                                                                                                                                                             \r\n",
      " Output                     def test_tokenize(self):                                                                                                                                                                                                                                                                                                                                                                                                                                                                                                                                                                                                                                                                                                                                                                                                                                                                                                                                                                                                                                               \r\n",
      "                                gold_collection = ['Lorem', 'ipsum', 'dolor', 'sit', 'amet', 'consectetur', 'adipiscing', 'elit', 'Aliquam', 'a', 'cursus', 'elit', 'sed', 'viverra', 'justo', 'Integer', 'tempus', 'ante', 'at', 'odio', 'commodo', 'et', 'ornare', 'ipsum', 'dapibus', 'Donec', 'bibendum', 'sit', 'amet', 'urna', 'sit', 'amet', 'facilisis', 'Donec', 'accumsan', 'odio', 'ligula', 'Proin', 'sodales', 'sapien', 'at', 'risus', 'viverra', 'at', 'vehicula', 'dolor', 'malesuada', 'Aenean', 'scelerisque', 'tristique', 'ultricies', 'Lorem', 'ipsum', 'dolor', 'sit', 'amet', 'consectetur', 'adipiscing', 'elit', 'Etiam', 'euismod', 'scelerisque', 'lacinia', 'Proin', 'sit', 'amet', 'nisi', 'orci', 'Donec', 'aliquet', 'eros', 'ac', 'sem', 'fringilla', 'eu', 'rutrum', 'urna', 'malesuada', 'Cras', 'ut', 'congue', 'massa', 'Nam', 'fermentum', 'odio', 'ac', 'purus', 'varius', 'ac', 'tempus', 'elit', 'bibendum', 'Donec', 'turpis', 'leo', 'imperdiet', 'eget', 'blandit', 'non', 'commodo', 'auctor', 'risus', 'Praesent', 'interdum', 'bibendum', 'gravida'] \r\n",
      "                                                                                                                                                                                                                                                                                                                                                                                                                                                                                                                                                                                                                                                                                                                                                                                                                                                                                                                                                                                                                                                                                                   \r\n",
      "                                user_collection = eg.tokenize('Lorem ipsum dolor sit amet, consectetur adipiscing elit. Aliquam a cursus elit, sed viverra justo. Integer tempus ante at odio commodo, et ornare ipsum dapibus. Donec bibendum sit amet urna sit amet facilisis. Donec accumsan odio ligula. Proin sodales sapien at risus viverra, at vehicula dolor malesuada. Aenean scelerisque tristique ultricies. Lorem ipsum dolor sit amet, consectetur adipiscing elit. Etiam euismod scelerisque lacinia. Proin sit amet nisi orci. Donec aliquet eros ac sem fringilla, eu rutrum urna malesuada. Cras ut congue massa. Nam fermentum odio ac purus varius, ac tempus elit bibendum. Donec turpis leo, imperdiet eget blandit non, commodo auctor risus. Praesent interdum bibendum gravida.')                                                                                                                                                                                                                                                                                         \r\n",
      "                                                                                                                                                                                                                                                                                                                                                                                                                                                                                                                                                                                                                                                                                                                                                                                                                                                                                                                                                                                                                                                                                                   \r\n",
      "                                self.assertTrue(gold_collection == user_collection)                                                                                                                                                                                                                                                                                                                                                                                                                                                                                                                                                                                                                                                                                                                                                                                                                                                                                                                                                                                                                \r\n",
      "                                                                                                                                                                                                                                                                                                                                                                                                                                                                                                                                                                                                                                                                                                                                                                                                                                                                                                                                                                                                                                                                                                   \r\n",
      " Return Value                                                                                                                                                                                                                                                                                                                                                                                                                                                                                                                                                                                                                                                                                                                                                                                                                                                                                                                                                                                                                                                                                      \r\n",
      "\r\n",
      "Your Stderr:\r\n",
      "module 'my_mr_clean' has no attribute 'tokenize'\r\n",
      "</MY_MR_CLEAN>\r\n"
     ]
    }
   ],
   "source": [
    "! gandalf"
   ]
  },
  {
   "cell_type": "code",
   "execution_count": null,
   "id": "32615b33-7b86-4c77-851d-3466dbec9329",
   "metadata": {},
   "outputs": [],
   "source": []
  },
  {
   "cell_type": "code",
   "execution_count": null,
   "id": "5fc84df2-5dfa-4693-9747-4647d69aead5",
   "metadata": {},
   "outputs": [],
   "source": []
  },
  {
   "cell_type": "code",
   "execution_count": null,
   "id": "e4b834e5-b5e0-400f-95e1-e15f729fed1e",
   "metadata": {},
   "outputs": [],
   "source": []
  }
 ],
 "metadata": {
  "kernelspec": {
   "display_name": "Python 3",
   "language": "python",
   "name": "python3"
  },
  "language_info": {
   "codemirror_mode": {
    "name": "ipython",
    "version": 3
   },
   "file_extension": ".py",
   "mimetype": "text/x-python",
   "name": "python",
   "nbconvert_exporter": "python",
   "pygments_lexer": "ipython3",
   "version": "3.6.7"
  }
 },
 "nbformat": 4,
 "nbformat_minor": 5
}
