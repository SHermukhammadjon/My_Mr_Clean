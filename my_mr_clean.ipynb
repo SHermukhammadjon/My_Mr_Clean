{
 "cells": [
  {
   "cell_type": "markdown",
   "id": "66e84e9b",
   "metadata": {},
   "source": [
    "# My Mr Clean"
   ]
  },
  {
   "cell_type": "code",
   "execution_count": 86,
   "id": "c896befe",
   "metadata": {},
   "outputs": [],
   "source": [
    "import requests\n",
    "import mylib as lib\n",
    "import re"
   ]
  },
  {
   "cell_type": "markdown",
   "id": "7a36747e",
   "metadata": {},
   "source": [
    "## 1. Get content from Wikipedia"
   ]
  },
  {
   "cell_type": "code",
   "execution_count": 76,
   "id": "131ed81e-61d7-4871-908c-ffded6bda3bd",
   "metadata": {},
   "outputs": [],
   "source": [
    "def get_content(title):\n",
    "    url = f\"https://en.wikipedia.org/w/api.php?action=query&prop=extracts&titles={title}&explaintext&format=json\"  \n",
    "    \n",
    "    respons = requests.get(url)\n",
    "    data = respons.json()\n",
    "    \n",
    "    return data"
   ]
  },
  {
   "cell_type": "code",
   "execution_count": 77,
   "id": "277aeec7-ddc0-4caa-9862-3b18c7c5a61c",
   "metadata": {},
   "outputs": [],
   "source": [
    "data = get_content(\"Ozone_layer\")"
   ]
  },
  {
   "cell_type": "code",
   "execution_count": 78,
   "id": "e88e5b93-d814-4aae-a80f-c6126f042b60",
   "metadata": {
    "scrolled": false
   },
   "outputs": [],
   "source": [
    "# data"
   ]
  },
  {
   "cell_type": "markdown",
   "id": "59d5a654",
   "metadata": {},
   "source": [
    "## 2. merge contents"
   ]
  },
  {
   "cell_type": "code",
   "execution_count": 79,
   "id": "cdc1cafd",
   "metadata": {},
   "outputs": [],
   "source": [
    "def drop_ab(abdict, data):\n",
    "    for key, value in abdict.items():\n",
    "        # print(key)\n",
    "        # print(value)\n",
    "        matche = f\"{key}.*{value}\"\n",
    "        while True:\n",
    "            loc = re.search(matche, data)\n",
    "        \n",
    "            if loc:\n",
    "                a = list(loc.span())[0]\n",
    "                b = list(loc.span())[1]\n",
    "                data = data.replace(data[a:b], \"\")\n",
    "            else:\n",
    "                break     \n",
    "\n",
    "    return data"
   ]
  },
  {
   "cell_type": "code",
   "execution_count": 80,
   "id": "c82ed0b2",
   "metadata": {},
   "outputs": [],
   "source": [
    "def drop_symbol(data):\n",
    "    \n",
    "    while True:\n",
    "        loc = re.search(\" .\\n\", data)\n",
    "        if loc:\n",
    "            a = list(loc.span())[0]\n",
    "            b = list(loc.span())[1]\n",
    "            data = data.replace(data[a:b], \"\")\n",
    "        else:\n",
    "            break\n",
    "    return data"
   ]
  },
  {
   "cell_type": "code",
   "execution_count": 81,
   "id": "743f27df",
   "metadata": {},
   "outputs": [],
   "source": [
    "def drops(elements, put, data):\n",
    "    for rep in elements:\n",
    "        data = data.replace(rep, put)\n",
    "    return data"
   ]
  },
  {
   "cell_type": "code",
   "execution_count": 82,
   "id": "0c84bc03",
   "metadata": {},
   "outputs": [],
   "source": [
    "def merge_contents(json_data):\n",
    "    key = list(json_data['query']['pages'].keys())[0]\n",
    "    data = str(json_data['query']['pages'][key]['extract'])\n",
    "\n",
    "    data = drop_ab({'{':'}', '\\(' : '\\)'}, data)  \n",
    "\n",
    "    porridge = data.split(\"\\n\\n\\n\")\n",
    "    porridge = porridge[0:-4]\n",
    "\n",
    "    respons = \"\"\n",
    "    \n",
    "    for n in porridge:\n",
    "        n = drop_symbol(n)\n",
    "        n = drops([\"=\", ',', '.', ':', '\"', '-', '1', '2', '3', '4', '5', '6', '7', '8', '9', '0'], \" \", n)\n",
    "        respons += n\n",
    "    respons = drops([\"\\n\", \"\\\\\"], \" \", respons)\n",
    "    return respons"
   ]
  },
  {
   "cell_type": "code",
   "execution_count": 83,
   "id": "1c0651f7",
   "metadata": {
    "scrolled": false
   },
   "outputs": [],
   "source": [
    "merge_content = merge_contents(data)"
   ]
  },
  {
   "cell_type": "code",
   "execution_count": 84,
   "id": "41f68327",
   "metadata": {
    "scrolled": true
   },
   "outputs": [],
   "source": [
    "# merge_content"
   ]
  },
  {
   "cell_type": "markdown",
   "id": "34c9818c",
   "metadata": {},
   "source": [
    "## 3. Tokenize"
   ]
  },
  {
   "cell_type": "code",
   "execution_count": 56,
   "id": "8e1dfe52",
   "metadata": {},
   "outputs": [],
   "source": [
    "def tokenize(content):\n",
    "    content = drops([\",\", \".\"], \" \", content)\n",
    "    data = content.split(\" \")\n",
    "    data2 = []\n",
    "    for n in data:\n",
    "        if len(n) != 0:\n",
    "            data2.append(n)\n",
    "    \n",
    "    return data2"
   ]
  },
  {
   "cell_type": "code",
   "execution_count": 95,
   "id": "6e848bf5-767e-40fa-a524-d957945cb637",
   "metadata": {},
   "outputs": [],
   "source": [
    "collection = tokenize(merge_content)"
   ]
  },
  {
   "cell_type": "code",
   "execution_count": 94,
   "id": "6a6e834f-9d6a-4192-8120-02c47a49b456",
   "metadata": {},
   "outputs": [],
   "source": [
    "# collection"
   ]
  },
  {
   "cell_type": "markdown",
   "id": "88fefcff",
   "metadata": {},
   "source": [
    "## 4. Lower collection"
   ]
  },
  {
   "cell_type": "code",
   "execution_count": 92,
   "id": "ea928613-3c7a-4810-a8be-2d80494c2d3f",
   "metadata": {},
   "outputs": [],
   "source": [
    "def lower_collection(collection):\n",
    "    respons = []\n",
    "    for n in collection:\n",
    "        respons.append(n.lower())\n",
    "    return respons    "
   ]
  },
  {
   "cell_type": "markdown",
   "id": "0b945a7c",
   "metadata": {},
   "source": [
    "## 5. Count frequensy"
   ]
  },
  {
   "cell_type": "code",
   "execution_count": 96,
   "id": "00b0d258-5cfe-4f5e-9e86-85e0f0d3208f",
   "metadata": {},
   "outputs": [],
   "source": [
    "def count_frequency(collection):\n",
    "    return None"
   ]
  },
  {
   "cell_type": "code",
   "execution_count": null,
   "id": "5bdba479-46a4-4aed-b740-dc5b28348600",
   "metadata": {},
   "outputs": [],
   "source": []
  },
  {
   "cell_type": "code",
   "execution_count": 97,
   "id": "1d8c03be-c433-43ee-87b9-2fbe588a1c2c",
   "metadata": {},
   "outputs": [],
   "source": [
    "count_frequency(collection)"
   ]
  },
  {
   "cell_type": "code",
   "execution_count": null,
   "id": "4e3d55fa",
   "metadata": {},
   "outputs": [],
   "source": []
  },
  {
   "cell_type": "code",
   "execution_count": null,
   "id": "c6d837d6",
   "metadata": {},
   "outputs": [],
   "source": []
  },
  {
   "cell_type": "code",
   "execution_count": null,
   "id": "fd54c142",
   "metadata": {},
   "outputs": [],
   "source": []
  },
  {
   "cell_type": "code",
   "execution_count": null,
   "id": "641fb791",
   "metadata": {},
   "outputs": [],
   "source": []
  },
  {
   "cell_type": "code",
   "execution_count": null,
   "id": "172fdeeb",
   "metadata": {},
   "outputs": [],
   "source": []
  },
  {
   "cell_type": "code",
   "execution_count": null,
   "id": "583234c2",
   "metadata": {},
   "outputs": [],
   "source": []
  },
  {
   "cell_type": "code",
   "execution_count": null,
   "id": "34762824",
   "metadata": {},
   "outputs": [],
   "source": []
  },
  {
   "cell_type": "code",
   "execution_count": null,
   "id": "c284f704",
   "metadata": {},
   "outputs": [],
   "source": []
  },
  {
   "cell_type": "code",
   "execution_count": 91,
   "id": "9fadcee1-1560-41ad-9100-a881a65234f4",
   "metadata": {
    "scrolled": false
   },
   "outputs": [
    {
     "name": "stdout",
     "output_type": "stream",
     "text": [
      "\n",
      "\u001b[94m\n",
      " ██████╗ ██╗    ██╗ █████╗ ███████╗ █████╗ ██████╗    ██╗ ██████╗ \n",
      "██╔═══██╗██║    ██║██╔══██╗██╔════╝██╔══██╗██╔══██╗   ██║██╔═══██╗\n",
      "██║   ██║██║ █╗ ██║███████║███████╗███████║██████╔╝   ██║██║   ██║\n",
      "██║▄▄ ██║██║███╗██║██╔══██║╚════██║██╔══██║██╔══██╗   ██║██║   ██║\n",
      "╚██████╔╝╚███╔███╔╝██║  ██║███████║██║  ██║██║  ██║██╗██║╚██████╔╝\n",
      " ╚══▀▀═╝  ╚══╝╚══╝ ╚═╝  ╚═╝╚══════╝╚═╝  ╚═╝╚═╝  ╚═╝╚═╝╚═╝ ╚═════╝ \n",
      "\t\t\t\t\t\t\t\t\t\t\t\t\t\t\t\t\t\t\t\t\t\t\t\t\t\t\t\t\t\t\t\t \u001b[0m\n",
      "Booting Gandalf v4.1.12-deab022 (production)\n",
      "Loading parameters:  \u001b[32mOK\u001b[0m\n",
      "User temirov_s connection: \u001b[32mOK\u001b[0m\n",
      "\n",
      "\n",
      "<MY_MR_CLEAN>\n",
      "Directory . exists: \u001b[32mOK\u001b[0m\n",
      "Pushing exercise: \u001b[32mOK\u001b[0m\n",
      "Printing your report:\n",
      "\n",
      " \u001b[97;1;40m     REPORT      \u001b[0m  \u001b[97mMY MR CLEAN\u001b[0m \n",
      "\n",
      " Status             \u001b[92mSUCCESS\u001b[0m     \n",
      " Execution Runtime  1.825175    \n",
      " Score              [\u001b[32m=\u001b[0m\u001b[32m=\u001b[0m\u001b[32m=\u001b[0m\u001b[32m=\u001b[0m\u001b[33m-\u001b[0m] 4/5 \n",
      "\n",
      "\n",
      "Checks detail Report:\n",
      "\n",
      " \u001b[97;1;40mTEST COUNT FREQUENCY \u001b[0m  \u001b[91m                                                                                                                                                                                                                                                                                                                                                                                                                                                                                                                            FAILURE                                                                                                                                                                                                                                                                                                                                                                                                                                                                                                                            \u001b[0m \n",
      "\n",
      " Input                                                                                                                                                                                                                                                                                                                                                                                                                                                                                                                                                                                                                                                                                                                                                                                                                                                                                                                                                                                                                                                                                  \n",
      " Expected Output        \"\"                                                                                                                                                                                                                                                                                                                                                                                                                                                                                                                                                                                                                                                                                                                                                                                                                                                                                                                                                                                                                                                              \n",
      " Expected Return Value                                                                                                                                                                                                                                                                                                                                                                                                                                                                                                                                                                                                                                                                                                                                                                                                                                                                                                                                                                                                                                                                  \n",
      " Output                     def test_count_frequency(self):                                                                                                                                                                                                                                                                                                                                                                                                                                                                                                                                                                                                                                                                                                                                                                                                                                                                                                                                                                                                                             \n",
      "                                data = ['lorem', 'ipsum', 'dolor', 'sit', 'amet', 'consectetur', 'adipiscing', 'elit', 'aliquam', 'a', 'cursus', 'elit', 'sed', 'viverra', 'justo', 'integer', 'tempus', 'ante', 'at', 'odio', 'commodo', 'et', 'ornare', 'ipsum', 'dapibus', 'donec', 'bibendum', 'sit', 'amet', 'urna', 'sit', 'amet', 'facilisis', 'donec', 'accumsan', 'odio', 'ligula', 'proin', 'sodales', 'sapien', 'at', 'risus', 'viverra', 'at', 'vehicula', 'dolor', 'malesuada', 'aenean', 'scelerisque', 'tristique', 'ultricies', 'lorem', 'ipsum', 'dolor', 'sit', 'amet', 'consectetur', 'adipiscing', 'elit', 'etiam', 'euismod', 'scelerisque', 'lacinia', 'proin', 'sit', 'amet', 'nisi', 'orci', 'donec', 'aliquet', 'eros', 'ac', 'sem', 'fringilla', 'eu', 'rutrum', 'urna', 'malesuada', 'cras', 'ut', 'congue', 'massa', 'nam', 'fermentum', 'odio', 'ac', 'purus', 'varius', 'ac', 'tempus', 'elit', 'bibendum', 'donec', 'turpis', 'leo', 'imperdiet', 'eget', 'blandit', 'non', 'commodo', 'auctor', 'risus', 'praesent', 'interdum', 'bibendum', 'gravida'] \n",
      "                                                                                                                                                                                                                                                                                                                                                                                                                                                                                                                                                                                                                                                                                                                                                                                                                                                                                                                                                                                                                                                                                        \n",
      "                                gold_count_frequency = {'lorem': 2, 'ipsum': 3, 'dolor': 3, 'sit': 5, 'amet': 5, 'consectetur': 2, 'adipiscing': 2, 'elit': 4, 'aliquam': 1, 'a': 1, 'cursus': 1, 'sed': 1, 'viverra': 2, 'justo': 1, 'integer': 1, 'tempus': 2, 'ante': 1, 'at': 3, 'odio': 3, 'commodo': 2, 'et': 1, 'ornare': 1, 'dapibus': 1, 'donec': 4, 'bibendum': 3, 'urna': 2, 'facilisis': 1, 'accumsan': 1, 'ligula': 1, 'proin': 2, 'sodales': 1, 'sapien': 1, 'risus': 2, 'vehicula': 1, 'malesuada': 2, 'aenean': 1, 'scelerisque': 2, 'tristique': 1, 'ultricies': 1, 'etiam': 1, 'euismod': 1, 'lacinia': 1, 'nisi': 1, 'orci': 1, 'aliquet': 1, 'eros': 1, 'ac': 3, 'sem': 1, 'fringilla': 1, 'eu': 1, 'rutrum': 1, 'cras': 1, 'ut': 1, 'congue': 1, 'massa': 1, 'nam': 1, 'fermentum': 1, 'purus': 1, 'varius': 1, 'turpis': 1, 'leo': 1, 'imperdiet': 1, 'eget': 1, 'blandit': 1, 'non': 1, 'auctor': 1, 'praesent': 1, 'interdum': 1, 'gravida': 1}                                                                                                                 \n",
      "                                                                                                                                                                                                                                                                                                                                                                                                                                                                                                                                                                                                                                                                                                                                                                                                                                                                                                                                                                                                                                                                                        \n",
      "                                user_count_frequency = eg.count_frequency(data)                                                                                                                                                                                                                                                                                                                                                                                                                                                                                                                                                                                                                                                                                                                                                                                                                                                                                                                                                                                                         \n",
      "                                                                                                                                                                                                                                                                                                                                                                                                                                                                                                                                                                                                                                                                                                                                                                                                                                                                                                                                                                                                                                                                                        \n",
      "                                self.assertTrue(isinstance(user_count_frequency, dict))                                                                                                                                                                                                                                                                                                                                                                                                                                                                                                                                                                                                                                                                                                                                                                                                                                                                                                                                                                                                 \n",
      "                                self.assertTrue(gold_count_frequency == user_count_frequency)                                                                                                                                                                                                                                                                                                                                                                                                                                                                                                                                                                                                                                                                                                                                                                                                                                                                                                                                                                                           \n",
      "                                                                                                                                                                                                                                                                                                                                                                                                                                                                                                                                                                                                                                                                                                                                                                                                                                                                                                                                                                                                                                                                                        \n",
      " Return Value                                                                                                                                                                                                                                                                                                                                                                                                                                                                                                                                                                                                                                                                                                                                                                                                                                                                                                                                                                                                                                                                           \n",
      "\n",
      "Your Stderr:\n",
      "module 'my_mr_clean' has no attribute 'count_frequency'\n",
      "\n",
      " \u001b[97;1;40mTEST GET CONTENT\u001b[0m  \u001b[92mSUCCESS\u001b[0m \n",
      "\n",
      "\n",
      "\n",
      " \u001b[97;1;40mTEST LOWER COLLECTION\u001b[0m  \u001b[92mSUCCESS\u001b[0m \n",
      "\n",
      "\n",
      "\n",
      " \u001b[97;1;40mTEST MERGE CONTENTS\u001b[0m  \u001b[92mSUCCESS\u001b[0m \n",
      "\n",
      "\n",
      "\n",
      " \u001b[97;1;40mTEST TOKENIZE\u001b[0m  \u001b[92mSUCCESS\u001b[0m \n",
      "\n",
      "\n",
      "</MY_MR_CLEAN>\n"
     ]
    }
   ],
   "source": [
    "! gandalf"
   ]
  }
 ],
 "metadata": {
  "kernelspec": {
   "display_name": "Python 3",
   "language": "python",
   "name": "python3"
  },
  "language_info": {
   "codemirror_mode": {
    "name": "ipython",
    "version": 3
   },
   "file_extension": ".py",
   "mimetype": "text/x-python",
   "name": "python",
   "nbconvert_exporter": "python",
   "pygments_lexer": "ipython3",
   "version": "3.6.7"
  }
 },
 "nbformat": 4,
 "nbformat_minor": 5
}
