{
 "cells": [
  {
   "cell_type": "code",
   "execution_count": 74,
   "id": "b937c8d6-faaf-4df2-a86d-06a5a5123a5a",
   "metadata": {},
   "outputs": [],
   "source": [
    "import requests\n",
    "import mylib as lib\n",
    "import re"
   ]
  },
  {
   "cell_type": "code",
   "execution_count": 75,
   "id": "131ed81e-61d7-4871-908c-ffded6bda3bd",
   "metadata": {},
   "outputs": [],
   "source": [
    "def get_content(title):\n",
    "    url = f\"https://en.wikipedia.org/w/api.php?action=query&prop=extracts&titles={title}&explaintext&format=json\"  \n",
    "    \n",
    "    respons = requests.get(url)\n",
    "    data = respons.json()\n",
    "#     data = respons.text\n",
    "    \n",
    "    return data    #[\"query\"][\"pages\"]['22834']['extract']  #[\"revisions\"][0]['slots']['main']['content']"
   ]
  },
  {
   "cell_type": "code",
   "execution_count": 72,
   "id": "277aeec7-ddc0-4caa-9862-3b18c7c5a61c",
   "metadata": {},
   "outputs": [],
   "source": [
    "# merge_content = get_content(\"Ozone_layer\")"
   ]
  },
  {
   "cell_type": "code",
   "execution_count": 76,
   "id": "e88e5b93-d814-4aae-a80f-c6126f042b60",
   "metadata": {
    "scrolled": false
   },
   "outputs": [],
   "source": [
    "# merge_content"
   ]
  },
  {
   "cell_type": "code",
   "execution_count": 77,
   "id": "6e848bf5-767e-40fa-a524-d957945cb637",
   "metadata": {},
   "outputs": [],
   "source": [
    "# def drop_tegs(tegs, data):\n",
    "    \n",
    "#     index = 0\n",
    "#     while True:\n",
    "#         # print(\"start\")\n",
    "#         # print(tegs)\n",
    "#         if index != len(tegs):\n",
    "#             teg = tegs[index]\n",
    "#             match = f\"<{teg}.*</{teg}>\"\n",
    "#             loc = re.search(match, data)\n",
    "#             if loc:\n",
    "#                 # print(\"if\")\n",
    "#                 loc = list(loc.span())\n",
    "#                 data = data.replace(data[loc[0] : loc[1]], \"\")\n",
    "#             else:\n",
    "#                 index+=1\n",
    "#         else:\n",
    "#             break\n",
    "#     return data\n"
   ]
  },
  {
   "cell_type": "code",
   "execution_count": 78,
   "id": "ea928613-3c7a-4810-a8be-2d80494c2d3f",
   "metadata": {},
   "outputs": [],
   "source": [
    "# def drop_ab(abdict, data):\n",
    "#     for key, value in abdict.items():\n",
    "#         # print(key)\n",
    "#         # print(value)\n",
    "#         match = f\"{key}.*{value}\"\n",
    "#         indexs = re.search(match, data)\n",
    "\n",
    "#         try:\n",
    "#             indexs = list(indexs.span())\n",
    "#             data = data.replace(data[indexs[0] : indexs[1]], \"\")\n",
    "#         except:\n",
    "#             continue\n",
    "\n",
    "#     return data"
   ]
  },
  {
   "cell_type": "code",
   "execution_count": 79,
   "id": "6a6e834f-9d6a-4192-8120-02c47a49b456",
   "metadata": {},
   "outputs": [],
   "source": [
    "# def merge_contents(data):\n",
    "#     data = str(data[\"query\"][\"pages\"][0][\"revisions\"][0]['slots']['main']['content'])\n",
    "#     data = drop_tegs([\"ref\",\"chem\", \"sub\"], data)\n",
    "#     data = lib.drops([\"'s\", \"==\"], \"\", data)\n",
    "#     data = drop_ab({\"<\" : \">\", \"<\" : \"/>\", \"http\" : \" \"}, data)\n",
    "    \n",
    "    \n",
    "#     data = data.split(\"\\n\\n\")\n",
    "#     porridge = data[1:-10] \n",
    "    \n",
    "#     for n in porridge:\n",
    "#         print(\"_______\")\n",
    "#         print(n)\n",
    "#         print(\"_______\")\n"
   ]
  },
  {
   "cell_type": "code",
   "execution_count": 80,
   "id": "193dd93c-d8e1-4107-9088-f3b769289cc6",
   "metadata": {},
   "outputs": [],
   "source": [
    "# merge_contents(merge_content)"
   ]
  },
  {
   "cell_type": "code",
   "execution_count": null,
   "id": "650b7307-c895-418e-9193-72b6a0ba6309",
   "metadata": {},
   "outputs": [],
   "source": []
  },
  {
   "cell_type": "code",
   "execution_count": null,
   "id": "00b0d258-5cfe-4f5e-9e86-85e0f0d3208f",
   "metadata": {},
   "outputs": [],
   "source": []
  },
  {
   "cell_type": "code",
   "execution_count": null,
   "id": "5bdba479-46a4-4aed-b740-dc5b28348600",
   "metadata": {},
   "outputs": [],
   "source": []
  },
  {
   "cell_type": "code",
   "execution_count": null,
   "id": "1d8c03be-c433-43ee-87b9-2fbe588a1c2c",
   "metadata": {},
   "outputs": [],
   "source": []
  },
  {
   "cell_type": "code",
   "execution_count": null,
   "id": "4e818310-a6d6-427b-b44f-5bf111bc8d91",
   "metadata": {},
   "outputs": [],
   "source": []
  },
  {
   "cell_type": "code",
   "execution_count": null,
   "id": "d5ac3c30-0bca-486b-9a4c-6a76968e33f2",
   "metadata": {},
   "outputs": [],
   "source": [
    "! git add -m\""
   ]
  },
  {
   "cell_type": "code",
   "execution_count": 81,
   "id": "9fadcee1-1560-41ad-9100-a881a65234f4",
   "metadata": {
    "scrolled": false
   },
   "outputs": [],
   "source": [
    "! gandalf"
   ]
  },
  {
   "cell_type": "code",
   "execution_count": null,
   "id": "32615b33-7b86-4c77-851d-3466dbec9329",
   "metadata": {},
   "outputs": [],
   "source": []
  },
  {
   "cell_type": "code",
   "execution_count": null,
   "id": "5fc84df2-5dfa-4693-9747-4647d69aead5",
   "metadata": {},
   "outputs": [],
   "source": []
  },
  {
   "cell_type": "code",
   "execution_count": null,
   "id": "e4b834e5-b5e0-400f-95e1-e15f729fed1e",
   "metadata": {},
   "outputs": [],
   "source": []
  }
 ],
 "metadata": {
  "kernelspec": {
   "display_name": "Python 3",
   "language": "python",
   "name": "python3"
  },
  "language_info": {
   "codemirror_mode": {
    "name": "ipython",
    "version": 3
   },
   "file_extension": ".py",
   "mimetype": "text/x-python",
   "name": "python",
   "nbconvert_exporter": "python",
   "pygments_lexer": "ipython3",
   "version": "3.6.7"
  }
 },
 "nbformat": 4,
 "nbformat_minor": 5
}
