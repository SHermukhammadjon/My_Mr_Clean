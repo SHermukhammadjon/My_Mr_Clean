{
 "cells": [
  {
   "cell_type": "code",
   "execution_count": 5,
   "id": "b937c8d6-faaf-4df2-a86d-06a5a5123a5a",
   "metadata": {},
   "outputs": [],
   "source": [
    "import requests"
   ]
  },
  {
   "cell_type": "code",
   "execution_count": 7,
   "id": "131ed81e-61d7-4871-908c-ffded6bda3bd",
   "metadata": {},
   "outputs": [],
   "source": [
    "def get_content(article_name):\n",
    "    url = \"https://en.wikipedia.org/w/api.php\"  \n",
    "    params = {\n",
    "        'action' : 'query',\n",
    "        'prop' : 'revisions',\n",
    "        'rvslots' : '*',\n",
    "        'rvprop' : 'content',\n",
    "        'formatversion' : '2',\n",
    "        'titles' : article_name,\n",
    "        'format' : 'json'\n",
    "    }\n",
    "    \n",
    "    respons = requests.get(url, params = params)\n",
    "    data = respons.json()\n",
    "    \n",
    "    return data[\"query\"][\"pages\"][0][\"revisions\"][0]['slots']['main']['content']"
   ]
  },
  {
   "cell_type": "code",
   "execution_count": 9,
   "id": "277aeec7-ddc0-4caa-9862-3b18c7c5a61c",
   "metadata": {},
   "outputs": [],
   "source": [
    "# get_content(\"Ozone_layer\")"
   ]
  },
  {
   "cell_type": "code",
   "execution_count": null,
   "id": "e88e5b93-d814-4aae-a80f-c6126f042b60",
   "metadata": {},
   "outputs": [],
   "source": []
  },
  {
   "cell_type": "code",
   "execution_count": 11,
   "id": "6a6e834f-9d6a-4192-8120-02c47a49b456",
   "metadata": {},
   "outputs": [
    {
     "name": "stdout",
     "output_type": "stream",
     "text": [
      "On branch dev\n",
      "Your branch is up to date with 'origin/dev'.\n",
      "\n",
      "Changes not staged for commit:\n",
      "  (use \"git add/rm <file>...\" to update what will be committed)\n",
      "  (use \"git restore <file>...\" to discard changes in working directory)\n",
      "\t\u001b[31mdeleted:    .ipynb_checkpoints/my_mr_clean-checkpoint.ipynb\u001b[m\n",
      "\t\u001b[31mdeleted:    my_mr_clean.ipynb\u001b[m\n",
      "\n",
      "Untracked files:\n",
      "  (use \"git add <file>...\" to include in what will be committed)\n",
      "\t\u001b[31m.ipynb_checkpoints/Untitled-checkpoint.ipynb\u001b[m\n",
      "\t\u001b[31mUntitled.ipynb\u001b[m\n",
      "\n",
      "no changes added to commit (use \"git add\" and/or \"git commit -a\")\n"
     ]
    }
   ],
   "source": [
    "! git status"
   ]
  },
  {
   "cell_type": "code",
   "execution_count": null,
   "id": "6e848bf5-767e-40fa-a524-d957945cb637",
   "metadata": {},
   "outputs": [],
   "source": []
  }
 ],
 "metadata": {
  "kernelspec": {
   "display_name": "Python 3",
   "language": "python",
   "name": "python3"
  },
  "language_info": {
   "codemirror_mode": {
    "name": "ipython",
    "version": 3
   },
   "file_extension": ".py",
   "mimetype": "text/x-python",
   "name": "python",
   "nbconvert_exporter": "python",
   "pygments_lexer": "ipython3",
   "version": "3.6.7"
  }
 },
 "nbformat": 4,
 "nbformat_minor": 5
}
